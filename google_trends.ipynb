{
 "cells": [
  {
   "cell_type": "markdown",
   "metadata": {},
   "source": [
    "# Google trends data exploration"
   ]
  },
  {
   "cell_type": "code",
   "execution_count": 9,
   "metadata": {},
   "outputs": [],
   "source": [
    "import pandas as pd\n",
    "import numpy as np\n",
    "from pytrends.request import TrendReq\n",
    "import matplotlib.pyplot as plt\n",
    "from graphviz import Digraph\n",
    "from collections import deque\n",
    "\n",
    "from pandas.plotting import register_matplotlib_converters\n",
    "register_matplotlib_converters()"
   ]
  },
  {
   "cell_type": "code",
   "execution_count": 2,
   "metadata": {},
   "outputs": [],
   "source": [
    "pytrends = TrendReq(hl='en-US', tz=360)"
   ]
  },
  {
   "cell_type": "markdown",
   "metadata": {},
   "source": [
    "### Setup a payload for 'Bitcoin' in the US "
   ]
  },
  {
   "cell_type": "code",
   "execution_count": 11,
   "metadata": {},
   "outputs": [],
   "source": [
    "kw = \"Bitcoin\"\n",
    "kw_list = [kw]\n",
    "pytrends.build_payload(kw_list, cat=0, timeframe='all', geo='US', gprop='')"
   ]
  },
  {
   "cell_type": "code",
   "execution_count": 22,
   "metadata": {},
   "outputs": [
    {
     "data": {
      "text/html": [
       "<div>\n",
       "<style scoped>\n",
       "    .dataframe tbody tr th:only-of-type {\n",
       "        vertical-align: middle;\n",
       "    }\n",
       "\n",
       "    .dataframe tbody tr th {\n",
       "        vertical-align: top;\n",
       "    }\n",
       "\n",
       "    .dataframe thead th {\n",
       "        text-align: right;\n",
       "    }\n",
       "</style>\n",
       "<table border=\"1\" class=\"dataframe\">\n",
       "  <thead>\n",
       "    <tr style=\"text-align: right;\">\n",
       "      <th></th>\n",
       "      <th>price of bitcoin</th>\n",
       "      <th>isPartial</th>\n",
       "    </tr>\n",
       "    <tr>\n",
       "      <th>date</th>\n",
       "      <th></th>\n",
       "      <th></th>\n",
       "    </tr>\n",
       "  </thead>\n",
       "  <tbody>\n",
       "    <tr>\n",
       "      <th>2019-01-01</th>\n",
       "      <td>8</td>\n",
       "      <td>False</td>\n",
       "    </tr>\n",
       "    <tr>\n",
       "      <th>2019-02-01</th>\n",
       "      <td>7</td>\n",
       "      <td>False</td>\n",
       "    </tr>\n",
       "    <tr>\n",
       "      <th>2019-03-01</th>\n",
       "      <td>6</td>\n",
       "      <td>False</td>\n",
       "    </tr>\n",
       "    <tr>\n",
       "      <th>2019-04-01</th>\n",
       "      <td>9</td>\n",
       "      <td>False</td>\n",
       "    </tr>\n",
       "    <tr>\n",
       "      <th>2019-05-01</th>\n",
       "      <td>15</td>\n",
       "      <td>True</td>\n",
       "    </tr>\n",
       "  </tbody>\n",
       "</table>\n",
       "</div>"
      ],
      "text/plain": [
       "            price of bitcoin isPartial\n",
       "date                                  \n",
       "2019-01-01                 8     False\n",
       "2019-02-01                 7     False\n",
       "2019-03-01                 6     False\n",
       "2019-04-01                 9     False\n",
       "2019-05-01                15      True"
      ]
     },
     "execution_count": 22,
     "metadata": {},
     "output_type": "execute_result"
    }
   ],
   "source": [
    "# Get the keyword interest dataframe.\n",
    "interest_df = pytrends.interest_over_time()\n",
    "interest_df.tail()"
   ]
  },
  {
   "cell_type": "markdown",
   "metadata": {},
   "source": [
    "#### What do the numbers represent?\n",
    "From google trends: \"Numbers represent search interest relative to the highest point on the chart for the given region and time. A value of 100 is the peak popularity for the term. A value of 50 means that the term is half as popular. A score of 0 means there was not enough data for this term.\""
   ]
  },
  {
   "cell_type": "markdown",
   "metadata": {},
   "source": [
    "### Check for null entries"
   ]
  },
  {
   "cell_type": "code",
   "execution_count": 13,
   "metadata": {},
   "outputs": [],
   "source": [
    "has_null = any(interest_df[kw].isnull())\n",
    "if has_null:\n",
    "    print(\"Null entries found... removing null entries\")\n",
    "    interest_df = interest_df.dropna()\n",
    "    has_null = any(interest_df['Gas prices'].isnull())\n",
    "    \n",
    "assert not has_null"
   ]
  },
  {
   "cell_type": "markdown",
   "metadata": {},
   "source": [
    "### Check that there is consistent time granularity between rows"
   ]
  },
  {
   "cell_type": "code",
   "execution_count": 14,
   "metadata": {},
   "outputs": [
    {
     "name": "stdout",
     "output_type": "stream",
     "text": [
      "Time granularity is approximately: 30 days 00:00:00\n"
     ]
    }
   ],
   "source": [
    "for i in range(interest_df.shape[0] - 1):\n",
    "    entry_time_difference = interest_df.index[i + 1] - interest_df.index[i]\n",
    "    x = list(entry_time_difference.components)\n",
    "    assert sum(x) == max(x)\n",
    "\n",
    "# A sample difference in time between rows.\n",
    "print(\"Time granularity is approximately:\", entry_time_difference)"
   ]
  },
  {
   "cell_type": "markdown",
   "metadata": {},
   "source": [
    "### Describe data"
   ]
  },
  {
   "cell_type": "code",
   "execution_count": 15,
   "metadata": {},
   "outputs": [
    {
     "data": {
      "text/html": [
       "<div>\n",
       "<style scoped>\n",
       "    .dataframe tbody tr th:only-of-type {\n",
       "        vertical-align: middle;\n",
       "    }\n",
       "\n",
       "    .dataframe tbody tr th {\n",
       "        vertical-align: top;\n",
       "    }\n",
       "\n",
       "    .dataframe thead th {\n",
       "        text-align: right;\n",
       "    }\n",
       "</style>\n",
       "<table border=\"1\" class=\"dataframe\">\n",
       "  <thead>\n",
       "    <tr style=\"text-align: right;\">\n",
       "      <th></th>\n",
       "      <th>Bitcoin</th>\n",
       "    </tr>\n",
       "  </thead>\n",
       "  <tbody>\n",
       "    <tr>\n",
       "      <th>count</th>\n",
       "      <td>185.000000</td>\n",
       "    </tr>\n",
       "    <tr>\n",
       "      <th>mean</th>\n",
       "      <td>3.562162</td>\n",
       "    </tr>\n",
       "    <tr>\n",
       "      <th>std</th>\n",
       "      <td>9.564295</td>\n",
       "    </tr>\n",
       "    <tr>\n",
       "      <th>min</th>\n",
       "      <td>0.000000</td>\n",
       "    </tr>\n",
       "    <tr>\n",
       "      <th>25%</th>\n",
       "      <td>0.000000</td>\n",
       "    </tr>\n",
       "    <tr>\n",
       "      <th>50%</th>\n",
       "      <td>0.000000</td>\n",
       "    </tr>\n",
       "    <tr>\n",
       "      <th>75%</th>\n",
       "      <td>3.000000</td>\n",
       "    </tr>\n",
       "    <tr>\n",
       "      <th>max</th>\n",
       "      <td>100.000000</td>\n",
       "    </tr>\n",
       "  </tbody>\n",
       "</table>\n",
       "</div>"
      ],
      "text/plain": [
       "          Bitcoin\n",
       "count  185.000000\n",
       "mean     3.562162\n",
       "std      9.564295\n",
       "min      0.000000\n",
       "25%      0.000000\n",
       "50%      0.000000\n",
       "75%      3.000000\n",
       "max    100.000000"
      ]
     },
     "execution_count": 15,
     "metadata": {},
     "output_type": "execute_result"
    }
   ],
   "source": [
    "interest_df.describe()"
   ]
  },
  {
   "cell_type": "markdown",
   "metadata": {},
   "source": [
    "### Visualize the data"
   ]
  },
  {
   "cell_type": "code",
   "execution_count": 17,
   "metadata": {},
   "outputs": [
    {
     "data": {
      "text/plain": [
       "Text(0, 0.5, 'Interest in Bitcoin')"
      ]
     },
     "execution_count": 17,
     "metadata": {},
     "output_type": "execute_result"
    },
    {
     "data": {
      "image/png": "[encoded data removed]",
      "text/plain": [
       "<Figure size 432x288 with 1 Axes>"
      ]
     },
     "metadata": {
      "needs_background": "light"
     },
     "output_type": "display_data"
    }
   ],
   "source": [
    "plt.plot(interest_df[kw])\n",
    "plt.xlabel('Time')\n",
    "plt.ylabel('Interest in {}'.format(kw))"
   ]
  },
  {
   "cell_type": "markdown",
   "metadata": {},
   "source": [
    "We see that the peak search for bitcoin occurred in 2018 when bitcoin became extremely popular."
   ]
  },
  {
   "cell_type": "markdown",
   "metadata": {},
   "source": [
    "## Using related queries as feedback to get more results\n",
    "\n",
    "The google trends API has the ability to provide suggested search terms given a query. Here, we use this feature to grow a graph of related search terms based on google recommendations.\n",
    "\n",
    "The parameters for this search are the number of iterations to run the search for, and $k$, the number of related queries to include for each search term."
   ]
  },
  {
   "cell_type": "code",
   "execution_count": 18,
   "metadata": {},
   "outputs": [],
   "source": [
    "# A function to return related keywords to a given keyword.\n",
    "def get_related_for_keyword(kw):\n",
    "    kw_list = [kw]\n",
    "    pytrends.build_payload(kw_list, cat=0, timeframe='all', geo='US', gprop='')\n",
    "    interest_df = pytrends.interest_over_time()\n",
    "    return pytrends.related_queries()"
   ]
  },
  {
   "cell_type": "code",
   "execution_count": 35,
   "metadata": {},
   "outputs": [
    {
     "name": "stdout",
     "output_type": "stream",
     "text": [
      "Finding related terms to Bitcoin...\n",
      "Finding related terms to bitcoin price...\n",
      "Finding related terms to bitcoin usd...\n",
      "Finding related terms to buy bitcoin...\n",
      "Finding related terms to price of bitcoin...\n",
      "Done\n"
     ]
    }
   ],
   "source": [
    "# Modify these to grow the size of the tree and to choose a different starting keyword\n",
    "start_kw = 'Bitcoin'\n",
    "num_iters = 5\n",
    "k = 3 # Top-k related keywords to find per word\n",
    "\n",
    "graph_dict = {}\n",
    "q = deque()\n",
    "q.append(start_kw)\n",
    "\n",
    "for i in range(num_iters):\n",
    "    # get the next keyword\n",
    "    kw = q.popleft()\n",
    "    print(\"Finding related terms to {}...\".format(kw))\n",
    "    \n",
    "    # Get related keywords for given keyword\n",
    "    related = get_related_for_keyword(kw)\n",
    "\n",
    "    # Get the top k related keywords\n",
    "    top_k = list(related[kw]['top'][:k]['query'].values)\n",
    "    \n",
    "    # Add to graph data dict\n",
    "    if kw not in graph_dict:\n",
    "        graph_dict[kw] = []\n",
    "    graph_dict[kw] = top_k\n",
    "    \n",
    "    q.extend(top_k)\n",
    "print(\"Done\")"
   ]
  },
  {
   "cell_type": "markdown",
   "metadata": {},
   "source": [
    "### Generate a graph from the search results"
   ]
  },
  {
   "cell_type": "code",
   "execution_count": 36,
   "metadata": {},
   "outputs": [
    {
     "data": {
      "image/svg+xml": [
       "<?xml version=\"1.0\" encoding=\"UTF-8\" standalone=\"no\"?>\n",
       "<!DOCTYPE svg PUBLIC \"-//W3C//DTD SVG 1.1//EN\"\n",
       " \"http://www.w3.org/Graphics/SVG/1.1/DTD/svg11.dtd\">\n",
       "<!-- Generated by graphviz version 2.40.1 (20161225.0304)\n",
       " -->\n",
       "<!-- Title: %3 Pages: 1 -->\n",
       "<svg width=\"792pt\" height=\"516pt\"\n",
       " viewBox=\"0.00 0.00 791.85 516.41\" xmlns=\"http://www.w3.org/2000/svg\" xmlns:xlink=\"http://www.w3.org/1999/xlink\">\n",
       "<g id=\"graph0\" class=\"graph\" transform=\"scale(1 1) rotate(0) translate(4 512.4061)\">\n",
       "<title>%3</title>\n",
       "<polygon fill=\"#ffffff\" stroke=\"transparent\" points=\"-4,4 -4,-512.4061 787.854,-512.4061 787.854,4 -4,4\"/>\n",
       "<!-- Bitcoin -->\n",
       "<g id=\"node1\" class=\"node\">\n",
       "<title>Bitcoin</title>\n",
       "<ellipse fill=\"#b2dfee\" stroke=\"#b2dfee\" cx=\"340.3089\" cy=\"-225.3132\" rx=\"37.8943\" ry=\"18\"/>\n",
       "<text text-anchor=\"middle\" x=\"340.3089\" y=\"-221.6132\" font-family=\"Times,serif\" font-size=\"14.00\" fill=\"#000000\">Bitcoin</text>\n",
       "</g>\n",
       "<!-- bitcoin price -->\n",
       "<g id=\"node2\" class=\"node\">\n",
       "<title>bitcoin price</title>\n",
       "<ellipse fill=\"#b2dfee\" stroke=\"#b2dfee\" cx=\"465.9274\" cy=\"-264.247\" rx=\"56.59\" ry=\"18\"/>\n",
       "<text text-anchor=\"middle\" x=\"465.9274\" y=\"-260.547\" font-family=\"Times,serif\" font-size=\"14.00\" fill=\"#000000\">bitcoin price</text>\n",
       "</g>\n",
       "<!-- Bitcoin&#45;&gt;bitcoin price -->\n",
       "<g id=\"edge1\" class=\"edge\">\n",
       "<title>Bitcoin&#45;&gt;bitcoin price</title>\n",
       "<path fill=\"none\" stroke=\"#000000\" d=\"M372.0078,-235.1378C385.1179,-239.2012 400.6473,-244.0143 415.2642,-248.5446\"/>\n",
       "<polygon fill=\"#000000\" stroke=\"#000000\" points=\"414.609,-252.0057 425.1969,-251.6231 416.6814,-245.3195 414.609,-252.0057\"/>\n",
       "</g>\n",
       "<!-- bitcoin usd -->\n",
       "<g id=\"node3\" class=\"node\">\n",
       "<title>bitcoin usd</title>\n",
       "<ellipse fill=\"#b2dfee\" stroke=\"#b2dfee\" cx=\"423.156\" cy=\"-139.885\" rx=\"50.8918\" ry=\"18\"/>\n",
       "<text text-anchor=\"middle\" x=\"423.156\" y=\"-136.185\" font-family=\"Times,serif\" font-size=\"14.00\" fill=\"#000000\">bitcoin usd</text>\n",
       "</g>\n",
       "<!-- Bitcoin&#45;&gt;bitcoin usd -->\n",
       "<g id=\"edge2\" class=\"edge\">\n",
       "<title>Bitcoin&#45;&gt;bitcoin usd</title>\n",
       "<path fill=\"none\" stroke=\"#000000\" d=\"M356.2826,-208.8418C368.4227,-196.3235 385.3242,-178.8954 399.098,-164.6925\"/>\n",
       "<polygon fill=\"#000000\" stroke=\"#000000\" points=\"401.9289,-166.8009 406.3782,-157.1855 396.9038,-161.9276 401.9289,-166.8009\"/>\n",
       "</g>\n",
       "<!-- buy bitcoin -->\n",
       "<g id=\"node4\" class=\"node\">\n",
       "<title>buy bitcoin</title>\n",
       "<ellipse fill=\"#b2dfee\" stroke=\"#b2dfee\" cx=\"204.7649\" cy=\"-236.947\" rx=\"51.9908\" ry=\"18\"/>\n",
       "<text text-anchor=\"middle\" x=\"204.7649\" y=\"-233.247\" font-family=\"Times,serif\" font-size=\"14.00\" fill=\"#000000\">buy bitcoin</text>\n",
       "</g>\n",
       "<!-- Bitcoin&#45;&gt;buy bitcoin -->\n",
       "<g id=\"edge3\" class=\"edge\">\n",
       "<title>Bitcoin&#45;&gt;buy bitcoin</title>\n",
       "<path fill=\"none\" stroke=\"#000000\" d=\"M302.9121,-228.523C291.2879,-229.5207 278.1605,-230.6474 265.3768,-231.7446\"/>\n",
       "<polygon fill=\"#000000\" stroke=\"#000000\" points=\"264.8975,-228.2728 255.2335,-232.6152 265.4962,-235.2472 264.8975,-228.2728\"/>\n",
       "</g>\n",
       "<!-- price of bitcoin -->\n",
       "<g id=\"node5\" class=\"node\">\n",
       "<title>price of bitcoin</title>\n",
       "<ellipse fill=\"#b2dfee\" stroke=\"#b2dfee\" cx=\"575.3625\" cy=\"-354.8803\" rx=\"66.0889\" ry=\"18\"/>\n",
       "<text text-anchor=\"middle\" x=\"575.3625\" y=\"-351.1803\" font-family=\"Times,serif\" font-size=\"14.00\" fill=\"#000000\">price of bitcoin</text>\n",
       "</g>\n",
       "<!-- bitcoin price&#45;&gt;price of bitcoin -->\n",
       "<g id=\"edge4\" class=\"edge\">\n",
       "<title>bitcoin price&#45;&gt;price of bitcoin</title>\n",
       "<path fill=\"none\" stroke=\"#000000\" d=\"M486.2549,-281.082C503.2377,-295.1471 527.6535,-315.3681 546.6345,-331.0879\"/>\n",
       "<polygon fill=\"#000000\" stroke=\"#000000\" points=\"544.4647,-333.8355 554.3989,-337.5184 548.9297,-328.4443 544.4647,-333.8355\"/>\n",
       "</g>\n",
       "<!-- bitcoin stock -->\n",
       "<g id=\"node6\" class=\"node\">\n",
       "<title>bitcoin stock</title>\n",
       "<ellipse fill=\"#b2dfee\" stroke=\"#b2dfee\" cx=\"412.3925\" cy=\"-378.4348\" rx=\"57.3905\" ry=\"18\"/>\n",
       "<text text-anchor=\"middle\" x=\"412.3925\" y=\"-374.7348\" font-family=\"Times,serif\" font-size=\"14.00\" fill=\"#000000\">bitcoin stock</text>\n",
       "</g>\n",
       "<!-- bitcoin price&#45;&gt;bitcoin stock -->\n",
       "<g id=\"edge5\" class=\"edge\">\n",
       "<title>bitcoin price&#45;&gt;bitcoin stock</title>\n",
       "<path fill=\"none\" stroke=\"#000000\" d=\"M457.5626,-282.0889C448.8919,-300.583 435.2281,-329.7273 425.1973,-351.1225\"/>\n",
       "<polygon fill=\"#000000\" stroke=\"#000000\" points=\"421.9512,-349.8013 420.8752,-360.3414 428.2893,-352.7728 421.9512,-349.8013\"/>\n",
       "</g>\n",
       "<!-- bitcoin stock price -->\n",
       "<g id=\"node7\" class=\"node\">\n",
       "<title>bitcoin stock price</title>\n",
       "<ellipse fill=\"#b2dfee\" stroke=\"#b2dfee\" cx=\"568.4523\" cy=\"-189.6092\" rx=\"77.9862\" ry=\"18\"/>\n",
       "<text text-anchor=\"middle\" x=\"568.4523\" y=\"-185.9092\" font-family=\"Times,serif\" font-size=\"14.00\" fill=\"#000000\">bitcoin stock price</text>\n",
       "</g>\n",
       "<!-- bitcoin price&#45;&gt;bitcoin stock price -->\n",
       "<g id=\"edge6\" class=\"edge\">\n",
       "<title>bitcoin price&#45;&gt;bitcoin stock price</title>\n",
       "<path fill=\"none\" stroke=\"#000000\" d=\"M488.681,-247.6825C502.7178,-237.4638 520.9361,-224.2009 536.4179,-212.9301\"/>\n",
       "<polygon fill=\"#000000\" stroke=\"#000000\" points=\"538.6688,-215.6207 544.6935,-206.9056 534.5489,-209.9615 538.6688,-215.6207\"/>\n",
       "</g>\n",
       "<!-- bitcoin usd&#45;&gt;bitcoin price -->\n",
       "<g id=\"edge9\" class=\"edge\">\n",
       "<title>bitcoin usd&#45;&gt;bitcoin price</title>\n",
       "<path fill=\"none\" stroke=\"#000000\" d=\"M429.3753,-157.9683C436.4709,-178.5992 448.1556,-212.5737 456.4009,-236.5477\"/>\n",
       "<polygon fill=\"#000000\" stroke=\"#000000\" points=\"453.1385,-237.8239 459.7006,-246.1419 459.758,-235.5472 453.1385,-237.8239\"/>\n",
       "</g>\n",
       "<!-- usd to bitcoin -->\n",
       "<g id=\"node8\" class=\"node\">\n",
       "<title>usd to bitcoin</title>\n",
       "<ellipse fill=\"#b2dfee\" stroke=\"#b2dfee\" cx=\"502.7805\" cy=\"-31.6819\" rx=\"60.3893\" ry=\"18\"/>\n",
       "<text text-anchor=\"middle\" x=\"502.7805\" y=\"-27.9819\" font-family=\"Times,serif\" font-size=\"14.00\" fill=\"#000000\">usd to bitcoin</text>\n",
       "</g>\n",
       "<!-- bitcoin usd&#45;&gt;usd to bitcoin -->\n",
       "<g id=\"edge7\" class=\"edge\">\n",
       "<title>bitcoin usd&#45;&gt;usd to bitcoin</title>\n",
       "<path fill=\"none\" stroke=\"#000000\" d=\"M436.3044,-122.0175C449.1557,-104.5535 468.8673,-77.7671 483.4926,-57.8925\"/>\n",
       "<polygon fill=\"#000000\" stroke=\"#000000\" points=\"486.5046,-59.7047 489.6126,-49.576 480.8666,-55.5558 486.5046,-59.7047\"/>\n",
       "</g>\n",
       "<!-- bitcoin price usd -->\n",
       "<g id=\"node9\" class=\"node\">\n",
       "<title>bitcoin price usd</title>\n",
       "<ellipse fill=\"#b2dfee\" stroke=\"#b2dfee\" cx=\"380.1437\" cy=\"-18\" rx=\"71.4873\" ry=\"18\"/>\n",
       "<text text-anchor=\"middle\" x=\"380.1437\" y=\"-14.3\" font-family=\"Times,serif\" font-size=\"14.00\" fill=\"#000000\">bitcoin price usd</text>\n",
       "</g>\n",
       "<!-- bitcoin usd&#45;&gt;bitcoin price usd -->\n",
       "<g id=\"edge8\" class=\"edge\">\n",
       "<title>bitcoin usd&#45;&gt;bitcoin price usd</title>\n",
       "<path fill=\"none\" stroke=\"#000000\" d=\"M416.8094,-121.9005C409.7255,-101.8266 398.1769,-69.1009 389.9336,-45.7418\"/>\n",
       "<polygon fill=\"#000000\" stroke=\"#000000\" points=\"393.1448,-44.3236 386.5164,-36.0583 386.5437,-46.6531 393.1448,-44.3236\"/>\n",
       "</g>\n",
       "<!-- how buy bitcoin -->\n",
       "<g id=\"node10\" class=\"node\">\n",
       "<title>how buy bitcoin</title>\n",
       "<ellipse fill=\"#b2dfee\" stroke=\"#b2dfee\" cx=\"133.2962\" cy=\"-122.2352\" rx=\"69.5877\" ry=\"18\"/>\n",
       "<text text-anchor=\"middle\" x=\"133.2962\" y=\"-118.5352\" font-family=\"Times,serif\" font-size=\"14.00\" fill=\"#000000\">how buy bitcoin</text>\n",
       "</g>\n",
       "<!-- buy bitcoin&#45;&gt;how buy bitcoin -->\n",
       "<g id=\"edge10\" class=\"edge\">\n",
       "<title>buy bitcoin&#45;&gt;how buy bitcoin</title>\n",
       "<path fill=\"none\" stroke=\"#000000\" d=\"M193.5979,-219.0233C181.8497,-200.1666 163.2349,-170.2887 149.7935,-148.7144\"/>\n",
       "<polygon fill=\"#000000\" stroke=\"#000000\" points=\"152.6434,-146.6697 144.3847,-140.033 146.7021,-150.3713 152.6434,-146.6697\"/>\n",
       "</g>\n",
       "<!-- how to buy bitcoin -->\n",
       "<g id=\"node11\" class=\"node\">\n",
       "<title>how to buy bitcoin</title>\n",
       "<ellipse fill=\"#b2dfee\" stroke=\"#b2dfee\" cx=\"79.293\" cy=\"-242.6488\" rx=\"79.0865\" ry=\"18\"/>\n",
       "<text text-anchor=\"middle\" x=\"79.293\" y=\"-238.9488\" font-family=\"Times,serif\" font-size=\"14.00\" fill=\"#000000\">how to buy bitcoin</text>\n",
       "</g>\n",
       "<!-- buy bitcoin&#45;&gt;how to buy bitcoin -->\n",
       "<g id=\"edge11\" class=\"edge\">\n",
       "<title>buy bitcoin&#45;&gt;how to buy bitcoin</title>\n",
       "<path fill=\"none\" stroke=\"#000000\" d=\"M153.0063,-239.299C152.9388,-239.3021 152.8712,-239.3052 152.8037,-239.3083\"/>\n",
       "<polygon fill=\"#000000\" stroke=\"#000000\" points=\"162.4302,-235.3624 152.601,-239.3175 162.7513,-242.3552 162.4302,-235.3624\"/>\n",
       "</g>\n",
       "<!-- buy with bitcoin -->\n",
       "<g id=\"node12\" class=\"node\">\n",
       "<title>buy with bitcoin</title>\n",
       "<ellipse fill=\"#b2dfee\" stroke=\"#b2dfee\" cx=\"143.1023\" cy=\"-357.1239\" rx=\"70.3881\" ry=\"18\"/>\n",
       "<text text-anchor=\"middle\" x=\"143.1023\" y=\"-353.4239\" font-family=\"Times,serif\" font-size=\"14.00\" fill=\"#000000\">buy with bitcoin</text>\n",
       "</g>\n",
       "<!-- buy bitcoin&#45;&gt;buy with bitcoin -->\n",
       "<g id=\"edge12\" class=\"edge\">\n",
       "<title>buy bitcoin&#45;&gt;buy with bitcoin</title>\n",
       "<path fill=\"none\" stroke=\"#000000\" d=\"M195.6664,-254.6795C185.4787,-274.5347 168.8497,-306.9438 157.0249,-329.9896\"/>\n",
       "<polygon fill=\"#000000\" stroke=\"#000000\" points=\"153.8915,-328.4297 152.4403,-338.9247 160.1195,-331.6253 153.8915,-328.4297\"/>\n",
       "</g>\n",
       "<!-- the price of bitcoin -->\n",
       "<g id=\"node13\" class=\"node\">\n",
       "<title>the price of bitcoin</title>\n",
       "<ellipse fill=\"#b2dfee\" stroke=\"#b2dfee\" cx=\"703.9111\" cy=\"-307.0963\" rx=\"79.8859\" ry=\"18\"/>\n",
       "<text text-anchor=\"middle\" x=\"703.9111\" y=\"-303.3963\" font-family=\"Times,serif\" font-size=\"14.00\" fill=\"#000000\">the price of bitcoin</text>\n",
       "</g>\n",
       "<!-- price of bitcoin&#45;&gt;the price of bitcoin -->\n",
       "<g id=\"edge13\" class=\"edge\">\n",
       "<title>price of bitcoin&#45;&gt;the price of bitcoin</title>\n",
       "<path fill=\"none\" stroke=\"#000000\" d=\"M614.6298,-340.2838C626.6327,-335.8221 640.014,-330.848 652.6885,-326.1367\"/>\n",
       "<polygon fill=\"#000000\" stroke=\"#000000\" points=\"654.0545,-329.363 662.2084,-322.598 651.6155,-322.8016 654.0545,-329.363\"/>\n",
       "</g>\n",
       "<!-- price of ethereum -->\n",
       "<g id=\"node14\" class=\"node\">\n",
       "<title>price of ethereum</title>\n",
       "<ellipse fill=\"#b2dfee\" stroke=\"#b2dfee\" cx=\"674.7225\" cy=\"-432.9148\" rx=\"74.9875\" ry=\"18\"/>\n",
       "<text text-anchor=\"middle\" x=\"674.7225\" y=\"-429.2148\" font-family=\"Times,serif\" font-size=\"14.00\" fill=\"#000000\">price of ethereum</text>\n",
       "</g>\n",
       "<!-- price of bitcoin&#45;&gt;price of ethereum -->\n",
       "<g id=\"edge14\" class=\"edge\">\n",
       "<title>price of bitcoin&#45;&gt;price of ethereum</title>\n",
       "<path fill=\"none\" stroke=\"#000000\" d=\"M597.4137,-372.1986C611.3066,-383.1097 629.4262,-397.3404 644.6311,-409.2818\"/>\n",
       "<polygon fill=\"#000000\" stroke=\"#000000\" points=\"642.7067,-412.2208 652.733,-415.6448 647.0303,-406.7156 642.7067,-412.2208\"/>\n",
       "</g>\n",
       "<!-- ethereum price -->\n",
       "<g id=\"node15\" class=\"node\">\n",
       "<title>ethereum price</title>\n",
       "<ellipse fill=\"#b2dfee\" stroke=\"#b2dfee\" cx=\"559.0621\" cy=\"-490.4061\" rx=\"64.9885\" ry=\"18\"/>\n",
       "<text text-anchor=\"middle\" x=\"559.0621\" y=\"-486.7061\" font-family=\"Times,serif\" font-size=\"14.00\" fill=\"#000000\">ethereum price</text>\n",
       "</g>\n",
       "<!-- price of bitcoin&#45;&gt;ethereum price -->\n",
       "<g id=\"edge15\" class=\"edge\">\n",
       "<title>price of bitcoin&#45;&gt;ethereum price</title>\n",
       "<path fill=\"none\" stroke=\"#000000\" d=\"M573.1979,-372.877C570.4456,-395.7606 565.6636,-435.5195 562.4321,-462.3867\"/>\n",
       "<polygon fill=\"#000000\" stroke=\"#000000\" points=\"558.9549,-461.9885 561.2356,-472.3349 565.9048,-462.8245 558.9549,-461.9885\"/>\n",
       "</g>\n",
       "</g>\n",
       "</svg>\n"
      ],
      "text/plain": [
       "<graphviz.dot.Digraph at 0x11ed9c828>"
      ]
     },
     "execution_count": 36,
     "metadata": {},
     "output_type": "execute_result"
    }
   ],
   "source": [
    "dot = Digraph(engine='neato')\n",
    "dot.node_attr.update(color='lightblue2', style='filled')\n",
    "dot.edge_attr.update(len='1.6')\n",
    "\n",
    "for kw in graph_dict:\n",
    "    dot.node(kw, kw)\n",
    "    for child in graph_dict[kw]:\n",
    "        dot.node(child, child)\n",
    "        dot.edge(kw, child, length='1')\n",
    "dot"
   ]
  },
  {
   "cell_type": "markdown",
   "metadata": {},
   "source": [
    "### Optionally render/export the graph"
   ]
  },
  {
   "cell_type": "code",
   "execution_count": 32,
   "metadata": {},
   "outputs": [
    {
     "data": {
      "text/plain": [
       "'Donald Trump.png'"
      ]
     },
     "execution_count": 32,
     "metadata": {},
     "output_type": "execute_result"
    }
   ],
   "source": [
    "dot.render(start_kw, view=True, cleanup=True, format='png')"
   ]
  }
 ],
 "metadata": {
  "kernelspec": {
   "display_name": "Python 3",
   "language": "python",
   "name": "python3"
  },
  "language_info": {
   "codemirror_mode": {
    "name": "ipython",
    "version": 3
   },
   "file_extension": ".py",
   "mimetype": "text/x-python",
   "name": "python",
   "nbconvert_exporter": "python",
   "pygments_lexer": "ipython3",
   "version": "3.6.8"
  }
 },
 "nbformat": 4,
 "nbformat_minor": 2
}
